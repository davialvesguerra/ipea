{
 "cells": [
  {
   "cell_type": "code",
   "execution_count": 2,
   "metadata": {},
   "outputs": [],
   "source": [
    "import pandas as pd\n",
    "import numpy as np\n",
    "import torch as nn\n",
    "import keras\n",
    "import matplotlib.pyplot as plt"
   ]
  },
  {
   "cell_type": "code",
   "execution_count": 4,
   "metadata": {},
   "outputs": [
    {
     "data": {
      "text/html": [
       "<div>\n",
       "<style scoped>\n",
       "    .dataframe tbody tr th:only-of-type {\n",
       "        vertical-align: middle;\n",
       "    }\n",
       "\n",
       "    .dataframe tbody tr th {\n",
       "        vertical-align: top;\n",
       "    }\n",
       "\n",
       "    .dataframe thead th {\n",
       "        text-align: right;\n",
       "    }\n",
       "</style>\n",
       "<table border=\"1\" class=\"dataframe\">\n",
       "  <thead>\n",
       "    <tr style=\"text-align: right;\">\n",
       "      <th></th>\n",
       "      <th>topico</th>\n",
       "      <th>tema</th>\n",
       "      <th>enunciado</th>\n",
       "      <th>resposta_certa</th>\n",
       "      <th>explicacao</th>\n",
       "      <th>resposta_user</th>\n",
       "      <th>id</th>\n",
       "      <th>ano</th>\n",
       "      <th>mes</th>\n",
       "      <th>dia</th>\n",
       "      <th>dificuldade</th>\n",
       "    </tr>\n",
       "  </thead>\n",
       "  <tbody>\n",
       "    <tr>\n",
       "      <th>0</th>\n",
       "      <td>tópico 1</td>\n",
       "      <td>Banco de dados relacional: SQL Server, Postgre...</td>\n",
       "      <td>Questão:\\nUm administrador de banco de dados p...</td>\n",
       "      <td>B</td>\n",
       "      <td>\\n\\nExplicação dos itens:\\n\\nA) Criar índices ...</td>\n",
       "      <td>A</td>\n",
       "      <td>739371</td>\n",
       "      <td>0</td>\n",
       "      <td>0</td>\n",
       "      <td>0</td>\n",
       "      <td>0</td>\n",
       "    </tr>\n",
       "    <tr>\n",
       "      <th>1</th>\n",
       "      <td>tópico 1</td>\n",
       "      <td>Banco de dados relacional: SQL Server, Postgre...</td>\n",
       "      <td>Questão: Considerando os sistemas de gerenciam...</td>\n",
       "      <td>E</td>\n",
       "      <td>\\n\\nExplicação dos itens:\\n\\nA) Incorrecto. Tr...</td>\n",
       "      <td>D</td>\n",
       "      <td>3760240</td>\n",
       "      <td>0</td>\n",
       "      <td>0</td>\n",
       "      <td>0</td>\n",
       "      <td>0</td>\n",
       "    </tr>\n",
       "    <tr>\n",
       "      <th>2</th>\n",
       "      <td>tópico 5</td>\n",
       "      <td>Técnicas de classificação: Naive Bayes; Regres...</td>\n",
       "      <td>Questão: Uma empresa de telecomunicações desej...</td>\n",
       "      <td>E</td>\n",
       "      <td>\\n\\nA alternativa E é a correta. A técnica de ...</td>\n",
       "      <td>C</td>\n",
       "      <td>3729591</td>\n",
       "      <td>0</td>\n",
       "      <td>0</td>\n",
       "      <td>0</td>\n",
       "      <td>0</td>\n",
       "    </tr>\n",
       "    <tr>\n",
       "      <th>3</th>\n",
       "      <td>tópico 4</td>\n",
       "      <td>Medidas de tendência central e dispersão e cor...</td>\n",
       "      <td>Questão:\\n\\nNa análise estatística de dados, é...</td>\n",
       "      <td>C</td>\n",
       "      <td>\\n\\nExplicação dos itens:\\n\\nA) A média calcul...</td>\n",
       "      <td>C</td>\n",
       "      <td>1339126</td>\n",
       "      <td>0</td>\n",
       "      <td>0</td>\n",
       "      <td>0</td>\n",
       "      <td>0</td>\n",
       "    </tr>\n",
       "    <tr>\n",
       "      <th>4</th>\n",
       "      <td>tópico 3</td>\n",
       "      <td>Linguagem de programação Scala</td>\n",
       "      <td>Questão: \\nConsiderando os paradigmas de progr...</td>\n",
       "      <td>C</td>\n",
       "      <td>\\n\\n Item I está incorreto porque a palavra-ch...</td>\n",
       "      <td>B</td>\n",
       "      <td>2601899</td>\n",
       "      <td>0</td>\n",
       "      <td>0</td>\n",
       "      <td>0</td>\n",
       "      <td>0</td>\n",
       "    </tr>\n",
       "  </tbody>\n",
       "</table>\n",
       "</div>"
      ],
      "text/plain": [
       "     topico                                               tema  \\\n",
       "0  tópico 1  Banco de dados relacional: SQL Server, Postgre...   \n",
       "1  tópico 1  Banco de dados relacional: SQL Server, Postgre...   \n",
       "2  tópico 5  Técnicas de classificação: Naive Bayes; Regres...   \n",
       "3  tópico 4  Medidas de tendência central e dispersão e cor...   \n",
       "4  tópico 3                     Linguagem de programação Scala   \n",
       "\n",
       "                                           enunciado resposta_certa  \\\n",
       "0  Questão:\\nUm administrador de banco de dados p...              B   \n",
       "1  Questão: Considerando os sistemas de gerenciam...              E   \n",
       "2  Questão: Uma empresa de telecomunicações desej...              E   \n",
       "3  Questão:\\n\\nNa análise estatística de dados, é...              C   \n",
       "4  Questão: \\nConsiderando os paradigmas de progr...              C   \n",
       "\n",
       "                                          explicacao resposta_user       id  \\\n",
       "0  \\n\\nExplicação dos itens:\\n\\nA) Criar índices ...             A   739371   \n",
       "1  \\n\\nExplicação dos itens:\\n\\nA) Incorrecto. Tr...             D  3760240   \n",
       "2  \\n\\nA alternativa E é a correta. A técnica de ...             C  3729591   \n",
       "3  \\n\\nExplicação dos itens:\\n\\nA) A média calcul...             C  1339126   \n",
       "4  \\n\\n Item I está incorreto porque a palavra-ch...             B  2601899   \n",
       "\n",
       "   ano  mes  dia dificuldade  \n",
       "0    0    0    0           0  \n",
       "1    0    0    0           0  \n",
       "2    0    0    0           0  \n",
       "3    0    0    0           0  \n",
       "4    0    0    0           0  "
      ]
     },
     "execution_count": 4,
     "metadata": {},
     "output_type": "execute_result"
    }
   ],
   "source": [
    "data = pd.read_csv('dados_respondidos.csv')\n",
    "data.head()"
   ]
  },
  {
   "cell_type": "code",
   "execution_count": 6,
   "metadata": {},
   "outputs": [
    {
     "name": "stdout",
     "output_type": "stream",
     "text": [
      "<class 'pandas.core.frame.DataFrame'>\n",
      "RangeIndex: 601 entries, 0 to 600\n",
      "Data columns (total 11 columns):\n",
      " #   Column          Non-Null Count  Dtype \n",
      "---  ------          --------------  ----- \n",
      " 0   topico          601 non-null    object\n",
      " 1   tema            601 non-null    object\n",
      " 2   enunciado       601 non-null    object\n",
      " 3   resposta_certa  601 non-null    object\n",
      " 4   explicacao      601 non-null    object\n",
      " 5   resposta_user   586 non-null    object\n",
      " 6   id              601 non-null    int64 \n",
      " 7   ano             601 non-null    int64 \n",
      " 8   mes             601 non-null    int64 \n",
      " 9   dia             601 non-null    int64 \n",
      " 10  dificuldade     601 non-null    object\n",
      "dtypes: int64(4), object(7)\n",
      "memory usage: 51.8+ KB\n"
     ]
    }
   ],
   "source": [
    "data.info()"
   ]
  },
  {
   "cell_type": "code",
   "execution_count": null,
   "metadata": {},
   "outputs": [],
   "source": []
  },
  {
   "cell_type": "code",
   "execution_count": 21,
   "metadata": {},
   "outputs": [
    {
     "data": {
      "text/plain": [
       "Ano\n",
       "2019    30\n",
       "2020    40\n",
       "2021    35\n",
       "Name: sum, dtype: int64"
      ]
     },
     "execution_count": 21,
     "metadata": {},
     "output_type": "execute_result"
    }
   ],
   "source": [
    "data = {'Produto': ['Maçã', 'Banana', 'Maçã', 'Banana', 'Maçã', 'Banana'],\n",
    "        'Vendas': [10, 20, 15, 25, 5, 30],\n",
    "        'Ano': [2019, 2019, 2020, 2020, 2021, 2021]}\n",
    "\n",
    "df = pd.DataFrame(data)\n",
    "\n",
    "# Agrupando por 'Produto' e calculando a soma total de vendas para cada produto\n",
    "grupo_produto = df.groupby('Produto').sum()\n",
    "\n",
    "# Agrupando por 'Produto' e 'Ano', calculando a média de vendas\n",
    "grupo_produto_ano = df.groupby(['Produto', 'Ano']).mean()\n",
    "grupo_produto_ano\n",
    "\n",
    "data = df.groupby(['Produto', 'Ano']).agg({'Vendas': ['sum', 'mean', 'max']})"
   ]
  },
  {
   "cell_type": "code",
   "execution_count": 42,
   "metadata": {},
   "outputs": [
    {
     "data": {
      "image/png": "[encoded data removed]",
      "text/plain": [
       "<Figure size 640x480 with 1 Axes>"
      ]
     },
     "metadata": {},
     "output_type": "display_data"
    }
   ],
   "source": [
    "valores_ano = data['Vendas'].groupby('Ano').sum()['sum']\n",
    "anos = ['2019','2020','2021']\n",
    "\n",
    "fig, axs = plt.subplots()\n",
    "axs.bar(anos, valores_ano)\n",
    "\n",
    "plt.show()"
   ]
  }
 ],
 "metadata": {
  "kernelspec": {
   "display_name": "Python 3",
   "language": "python",
   "name": "python3"
  },
  "language_info": {
   "codemirror_mode": {
    "name": "ipython",
    "version": 3
   },
   "file_extension": ".py",
   "mimetype": "text/x-python",
   "name": "python",
   "nbconvert_exporter": "python",
   "pygments_lexer": "ipython3",
   "version": "3.8.9"
  }
 },
 "nbformat": 4,
 "nbformat_minor": 2
}
